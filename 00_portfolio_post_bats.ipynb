{
 "cells": [
  {
   "cell_type": "markdown",
   "metadata": {
    "vscode": {
     "languageId": "plaintext"
    }
   },
   "source": [
    "# Understanding Animal Behavior Post Fire\n",
    "\n",
    "During 2020, Colorado and Wyoming experienced three mega-fires, the Camron Peak, East Troublsome, and Mullen Fires, which burned over 230,000 ha. In 2024 and 2025 researchers from Colorado State University (Dr Leah McTigue) and the USDA (Dr Zack Steel) sampled 134 burned and unburned locations across a gradient of burn severity. \n",
    "\n",
    "## Objective\n",
    "\n",
    "Bat specific - Understanding the effects of fire on bats is critical for developing effective management guidelines and policies to prevent further endangerment and foster recovery. \n",
    "\n",
    "General - Determine the response post-fire across species and assess chanages in occupancy and biodiversity across pyrodiversity and elevation change. The goal is to better understand how to manage forests post-fore to support wildlife recover. \n",
    "\n",
    "# Project Specifications\n",
    "\n",
    "This project specifically examines accoustic bat data gathered for the Mullen Peak fire. There are significant gaps in bata data as the majority of research has focused on bats on the coastal or eastern areas of the US and most often examine prescribed fires. There are a lack of studies focusin on both the Mountain West and on those examining pyrodiversity. There are also not a lot of studies focusing over periods of time (Loeb and Blakey, 2021)\n",
    "\n",
    "1. Loeb, Susan C., and Rachel V. Blakey. “Bats and Fire: A Global Review.” Fire Ecology, vol. 17, no. 1, Nov. 2021, p. 29, https://doi.org/10.1186/s42408-021-00109-0."
   ]
  },
  {
   "cell_type": "markdown",
   "metadata": {
    "vscode": {
     "languageId": "plaintext"
    }
   },
   "source": [
    "# Data Overview: \n",
    "Acoustic monitoring of birds and bats for 3 weeks at each location\n",
    "Trail cameras for mammals that don’t fly - 3 weeks\n",
    "Vegetation surveys: point grid surveys at each location for canopy cover, surveys from camera locations, basal area\n",
    "Data format: all data in csv format, already sorted by species\n",
    "\n",
    "## List of Data:\n",
    "### Trail Camera Data from the Mullen Fire Area and Acoustic bat data-partner provided - Can be found in the 00_Data folder. \n",
    "Provided by Leah Tigue from Colorado State University, this data can be found in the folder in the repository called 'Data.' Data is in CSV format. Time frame is from 5/27/2024 to 08/19/2024. Burn severity is also recorded on a scale of 1-4. \n",
    "\n",
    "### MTBS Data to outline burn areas\n",
    "MTBS (Monitoring Trends in Burn Severity) is an interagency program whose goal is to consistently map the burn severity and extent of large fires across all lands of the United States from 1984 to present. This includes all fires 1,000 acres or greater in the western United States and 500 acres or greater in the eastern Unites States. The extent of coverage includes the continental U.S., Alaska, Hawaii and Puerto Rico.\n",
    "\n",
    "I will be using this to map the Mullen Fire, which took place in 2020 between September 17 to October 20.\n",
    "\n",
    "To determine the boundary of the Mullen Fire, MTBS delineates on-screen interpretation of the reflectance imagery and the NBR (Normalized Burn Ratio), dNBR (Differenced Normalized Burn Ratio) and RdNBR (Relativized difference Normalized Burn Ratio) images. The mapping analyst digitizes a perimeter to include any detectable fire area derived from these images. Clouds, cloud shadows, snow or other anomalies intersecting the fire area are also delineated and used to generate a mask later in the workflow. To ensure consistency and high spatial precision, digitization is performed at on-screen display scales between 1:24000 and 1:50000.\n",
    "https://www.mtbs.gov/mapping-methods.\n",
    "\n",
    "### STRM \n",
    "The SRTM 1 Arc-Second Global product offers global coverage of void filled elevation data at a resolution of 1 arc-second (30 meters). The Shuttle Radar Topography Mission (SRTM) was flown aboard the space shuttle Endeavour February 11-22, 2000."
   ]
  },
  {
   "cell_type": "markdown",
   "metadata": {},
   "source": [
    "## Import necessary packages"
   ]
  },
  {
   "cell_type": "code",
   "execution_count": null,
   "metadata": {},
   "outputs": [],
   "source": [
    "### Reproducable file paths\n",
    "import os\n",
    "from glob import glob\n",
    "import pathlib\n",
    "\n",
    "### Managing spatial data\n",
    "import geopandas as gpd\n",
    "import xrspatial\n",
    "\n",
    "### Managing other types of data\n",
    "import numpy as np\n",
    "import pandas as pd\n",
    "import rioxarray as rxr\n",
    "import rioxarray.merge as rmrm\n",
    "\n",
    "### Manage invalid geometries\n",
    "from shapely.geometry import MultiPolygon, Polygon, Point\n",
    "\n",
    "### Visualizing data\n",
    "import holoviews as hv\n",
    "import hvplot.pandas\n",
    "import hvplot.xarray\n",
    "\n",
    "# Importing and accessing CSC\n",
    "import re\n",
    "\n",
    "# Working with Dataframes\n",
    "import matplotlib.pyplot as plt\n",
    "import contextily as ctx"
   ]
  },
  {
   "cell_type": "code",
   "execution_count": null,
   "metadata": {
    "vscode": {
     "languageId": "plaintext"
    }
   },
   "outputs": [],
   "source": [
    "### Create a reproducible file path\n",
    "data2025_dir = os.path.join(\n",
    "    pathlib.Path.home(),\n",
    "    'earth-analytics',\n",
    "    'data2025',\n",
    "    'wildfire')\n",
    "os.makedirs(data2025_dir, exist_ok=True)\n",
    "\n",
    "# Step 4: Confirm creation\n",
    "print(f\"Data directory created at: {data2025_dir}\")"
   ]
  },
  {
   "cell_type": "markdown",
   "metadata": {},
   "source": [
    "# Identify Fire Boundaries "
   ]
  },
  {
   "cell_type": "markdown",
   "metadata": {
    "vscode": {
     "languageId": "plaintext"
    }
   },
   "source": [
    "### Site Directory\n",
    "site_dir = os.path.join(data2025_dir, 'mullen')\n",
    "os.makedirs(site_dir, exist_ok = True)\n",
    "\n",
    "mtbs_path = 'xxxxx.shp'\n",
    "\n",
    "mtbs_gdf = gpd.read_file(mtbs_path)\n",
    "\n",
    "print(mtbs_gdf.head())"
   ]
  },
  {
   "cell_type": "markdown",
   "metadata": {
    "vscode": {
     "languageId": "plaintext"
    }
   },
   "source": [
    "### Find out column names\n",
    "mtbs_gdf.columns"
   ]
  },
  {
   "cell_type": "markdown",
   "metadata": {
    "vscode": {
     "languageId": "plaintext"
    }
   },
   "source": [
    "### simplify columns\n",
    "mtbs_gdf = mtbs_gdf[['Incid_Name', 'BurnBndLat',\n",
    "                 'BurnBndLon', 'Perim_ID',\n",
    "                 'geometry']]"
   ]
  },
  {
   "cell_type": "markdown",
   "metadata": {
    "vscode": {
     "languageId": "plaintext"
    }
   },
   "source": [
    "# Sort out the Mullen Fire rows from the other rows using the incident name \n",
    "mullen_rows = mtbs_gdf[mtbs_gdf['Incid_Name'] == 'MULLEN']\n",
    "\n",
    "mullen_rows\n",
    "\n",
    "mullen_gdf = mullen_rows"
   ]
  },
  {
   "cell_type": "markdown",
   "metadata": {
    "vscode": {
     "languageId": "plaintext"
    }
   },
   "source": [
    "### Plot Mullen Fire \n",
    "mullen_gdf.dissolve().hvplot(\n",
    "    geo = True, tiles = 'EsriImagery',\n",
    "    title = 'Mullen Fire',\n",
    "    fill_color = None, line_color = 'darkorange',\n",
    "    frame_width = 600\n",
    ")"
   ]
  },
  {
   "cell_type": "markdown",
   "metadata": {},
   "source": [
    "### Mullen Fire"
   ]
  },
  {
   "cell_type": "markdown",
   "metadata": {},
   "source": [
    "# Data Wrangling (Bat Data)"
   ]
  },
  {
   "cell_type": "code",
   "execution_count": null,
   "metadata": {},
   "outputs": [],
   "source": [
    "# Import the necessary function\n",
    "from site_utils import load_csv_data\n",
    "\n",
    "#Use the function load_csv_data to access your \n",
    "csv_filename = 'COFires_bats_2024.csv'\n",
    "csv_df = load_csv_data(csv_filename, data2025_dir)\n",
    "csv_df.head()"
   ]
  },
  {
   "cell_type": "code",
   "execution_count": null,
   "metadata": {},
   "outputs": [],
   "source": [
    "# Load in the CSV\n",
    "csv_path = \"/Users/erinzimmerman/earth-analytics/data2025/wildfire/COFires_bats_2024.csv\""
   ]
  },
  {
   "cell_type": "code",
   "execution_count": null,
   "metadata": {},
   "outputs": [],
   "source": [
    "# Clean and Unify Data\n",
    "\n",
    "# Trim whitespace in string colums, just in case\n",
    "csv_df['site'] = csv_df['site'].str.strip()\n",
    "csv_df['area'] = csv_df['area'].str.strip()\n",
    "\n",
    "# Check date types\n",
    "csv_df.dtypes\n",
    "\n",
    "# Convert dates from being objects to intigers. \n",
    "csv_df['date'] = pd.to_datetime(csv_df['date'], errors='coerce')"
   ]
  },
  {
   "cell_type": "code",
   "execution_count": null,
   "metadata": {},
   "outputs": [],
   "source": [
    "# Identify missing values\n",
    "csv_df.isnull().sum()"
   ]
  },
  {
   "cell_type": "code",
   "execution_count": null,
   "metadata": {},
   "outputs": [],
   "source": [
    "# Preview the cleaned-up DataFrame\n",
    "csv_df.head()"
   ]
  },
  {
   "cell_type": "code",
   "execution_count": null,
   "metadata": {},
   "outputs": [],
   "source": [
    "# Narrow down data to only include data from the Mullen Fire\n",
    "### figure out which rows are part of Mullen Fire by looking for MU in the site name\n",
    "mullen_bat_df = csv_df[csv_df['site'].str.contains(\"MU\", na=False)]\n",
    "\n",
    "mullen_bat_df"
   ]
  },
  {
   "cell_type": "code",
   "execution_count": null,
   "metadata": {},
   "outputs": [],
   "source": [
    "# Filter to just 'MU' fire sites (there is some data that starts with SMU that needs to be excluded)\n",
    "mu_mask = csv_df['site'].str.startswith(\"MU\", na=False)\n",
    "mullen_bat_df = csv_df[mu_mask].copy()\n",
    "\n",
    "# Extract severity and site number from 'MUx-yyy' format\n",
    "pattern = r\"MU(\\d)-(\\d{3})\"\n",
    "mullen_bat_df[['severity', 'site_num']] = mullen_bat_df['site'].str.extract(pattern)\n",
    "\n",
    "# Drop rows where extraction failed (i.e., the format didn't match)\n",
    "mullen_bat_df.dropna(subset=['severity', 'site_num'], inplace=True)\n",
    "\n",
    "# Convert types\n",
    "mullen_bat_df['severity'] = mullen_bat_df['severity'].astype(int)\n",
    "mullen_bat_df['site_num'] = mullen_bat_df['site_num'].astype(int)\n",
    "\n",
    "mullen_bat_df"
   ]
  },
  {
   "cell_type": "markdown",
   "metadata": {},
   "source": [
    "# Wrangling for the site data. Remember, the site data has three separate sites. \n",
    "This data does not have column headers and is in a different format from the previous data. From this sheet will will need to get the geometry data so that it can be merged with the bat count data. "
   ]
  },
  {
   "cell_type": "code",
   "execution_count": null,
   "metadata": {},
   "outputs": [],
   "source": [
    "#Use the function load_csv_data to access your \n",
    "csv_filename = 'site_data_2024.csv'\n",
    "site_df = load_csv_data(csv_filename, data2025_dir)\n",
    "site_df.head()"
   ]
  },
  {
   "cell_type": "code",
   "execution_count": null,
   "metadata": {},
   "outputs": [],
   "source": [
    "# Filter to just 'MU' fire sites\n",
    "mu_mask = site_df['Site'].str.startswith(\"MU\", na=False)\n",
    "mullen_site_df = site_df[mu_mask].copy()\n",
    "\n",
    "mullen_site_df"
   ]
  },
  {
   "cell_type": "code",
   "execution_count": null,
   "metadata": {},
   "outputs": [],
   "source": [
    "# Remove leading zeros from the 'Point Number' column\n",
    "mullen_site_df['Point Number'] = mullen_site_df['Point Number'].str.lstrip('0')\n",
    "\n",
    "# Rename the column to 'site_num'\n",
    "mullen_site_df.rename(columns={'Point Number': 'site_num'}, inplace=True)\n",
    "\n",
    "# Check the result\n",
    "print(mullen_site_df.head())"
   ]
  },
  {
   "cell_type": "code",
   "execution_count": null,
   "metadata": {},
   "outputs": [],
   "source": [
    "# Since we want to plot the sites, we need to create a geometry column from lon/lat\n",
    "geometry = [Point(xy) for xy in zip(mullen_site_df['Longitude'], mullen_site_df['Lattitude'])]\n",
    "\n",
    "# Convert to GeoDataFrame\n",
    "mullen_site_gdf = gpd.GeoDataFrame(mullen_site_df, geometry=geometry)\n",
    "\n",
    "### simplify columns\n",
    "mullen_site_gdf = mullen_site_gdf[['site_num', 'Date Set', 'Date Pulled',\n",
    "                'geometry']]\n",
    "\n",
    "# Convert 'site_num' to string in both DataFrames to ensure compatibility\n",
    "mullen_site_gdf['site_num'] = mullen_site_gdf['site_num'].astype(str)\n",
    "mullen_bat_df['site_num'] = mullen_bat_df['site_num'].astype(str)"
   ]
  },
  {
   "cell_type": "markdown",
   "metadata": {},
   "source": [
    "# Start Plotting\n",
    "## Now that we have clear data, let's start combining the data we have\n",
    "\n",
    "## First We are going to overlay the site data on the Mullen Fire Boundary"
   ]
  },
  {
   "cell_type": "code",
   "execution_count": null,
   "metadata": {},
   "outputs": [],
   "source": [
    "sensor_plot = mullen_site_gdf.hvplot(\n",
    "    geo=True,\n",
    "    tiles='EsriImagery',\n",
    "    color='yellow',\n",
    "    size=6,\n",
    "    frame_width=700,\n",
    "    frame_height=700,  # Optional if the plots are skewed\n",
    "    legend=False\n",
    ")\n",
    "\n",
    "boundary_plot = mullen_gdf.dissolve().hvplot(\n",
    "    geo=True,\n",
    "    color=None,\n",
    "    line_color='red',\n",
    "    line_width=2,\n",
    "    frame_width=700,\n",
    "    frame_height=700,  # Same frame size for consistency\n",
    "    legend=True\n",
    ")\n",
    "\n",
    "# Combine both\n",
    "(sensor_plot * boundary_plot).opts(\n",
    "    title='Sensor Sites within the Mullen Fire Boundary',\n",
    "    active_tools=['wheel_zoom']\n",
    ")"
   ]
  }
 ],
 "metadata": {
  "language_info": {
   "name": "python"
  }
 },
 "nbformat": 4,
 "nbformat_minor": 2
}
