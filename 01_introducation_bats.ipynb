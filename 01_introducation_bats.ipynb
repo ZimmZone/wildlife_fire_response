{
 "cells": [
  {
   "cell_type": "markdown",
   "metadata": {},
   "source": [
    "# Understanding Animal Behavior Post Fire\n",
    "\n"
   ]
  },
  {
   "cell_type": "markdown",
   "metadata": {},
   "source": [
    "During 2020, Colorado and Wyoming experienced three mega-fires, the Camron Peak, East Troublsome, and Mullen Fires, which burned over 230,000 ha. In 2024 and 2025 researchers from Colorado State University (Dr Leah McTigue) and the USDA (Dr Zack Steel) sampled 134 burned and unburned locations across a gradient of burn severity. \n",
    "\n",
    "## Objective\n",
    "\n",
    "Bat specific - Understanding the effects of fire on bats is critical for developing effective management guidelines and policies to prevent further endangerment and foster recovery. \n",
    "\n",
    "General - Determine the response post-fire across species and assess chanages in occupancy and biodiversity across pyrodiversity and elevation change. The goal is to better understand how to manage forests post-fore to support wildlife recover. \n",
    "\n",
    "# Project Specifications\n",
    "\n",
    "This project specifically examines accoustic bat data gathered for the Mullen Peak fire. There are significant gaps in bata data as the majority of research has focused on bats on the coastal or eastern areas of the US and most often examine prescribed fires. There are a lack of studies focusin on both the Mountain West and on those examining pyrodiversity. There are also not a lot of studies focusing over periods of time (Loeb and Blakey, 2021)\n",
    "\n",
    "1. Loeb, Susan C., and Rachel V. Blakey. “Bats and Fire: A Global Review.” Fire Ecology, vol. 17, no. 1, Nov. 2021, p. 29, https://doi.org/10.1186/s42408-021-00109-0."
   ]
  },
  {
   "cell_type": "markdown",
   "metadata": {},
   "source": [
    "# Data Overview: \n",
    "Acoustic monitoring of birds and bats for 3 weeks at each location\n",
    "Trail cameras for mammals that don’t fly - 3 weeks\n",
    "Vegetation surveys: point grid surveys at each location for canopy cover, surveys from camera locations, basal area\n",
    "Data format: all data in csv format, already sorted by species\n",
    "\n",
    "## List of Data:\n",
    "### Trail Camera Data from the Mullen Fire Area and Acoustic bat data-partner provided - Can be found in the 00_Data folder. \n",
    "Provided by Leah Tigue from Colorado State University, this data can be found in the folder in the repository called 'Data.' Data is in CSV format. Time frame is from 5/27/2024 to 08/19/2024. Burn severity is also recorded on a scale of 1-4. \n",
    "\n",
    "### MTBS Data to outline burn areas\n",
    "MTBS (Monitoring Trends in Burn Severity) is an interagency program whose goal is to consistently map the burn severity and extent of large fires across all lands of the United States from 1984 to present. This includes all fires 1,000 acres or greater in the western United States and 500 acres or greater in the eastern Unites States. The extent of coverage includes the continental U.S., Alaska, Hawaii and Puerto Rico.\n",
    "\n",
    "I will be using this to map the Mullen Fire, which took place in 2020 between September 17 to October 20.\n",
    "\n",
    "To determine the boundary of the Mullen Fire, MTBS delineates on-screen interpretation of the reflectance imagery and the NBR (Normalized Burn Ratio), dNBR (Differenced Normalized Burn Ratio) and RdNBR (Relativized difference Normalized Burn Ratio) images. The mapping analyst digitizes a perimeter to include any detectable fire area derived from these images. Clouds, cloud shadows, snow or other anomalies intersecting the fire area are also delineated and used to generate a mask later in the workflow. To ensure consistency and high spatial precision, digitization is performed at on-screen display scales between 1:24000 and 1:50000.\n",
    "https://www.mtbs.gov/mapping-methods.\n",
    "\n",
    "### STRM \n",
    "The SRTM 1 Arc-Second Global product offers global coverage of void filled elevation data at a resolution of 1 arc-second (30 meters). The Shuttle Radar Topography Mission (SRTM) was flown aboard the space shuttle Endeavour February 11-22, 2000."
   ]
  }
 ],
 "metadata": {
  "language_info": {
   "name": "python"
  }
 },
 "nbformat": 4,
 "nbformat_minor": 2
}
